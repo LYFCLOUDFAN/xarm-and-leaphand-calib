{
 "cells": [
  {
   "cell_type": "code",
   "execution_count": 1,
   "metadata": {},
   "outputs": [],
   "source": [
    "import numpy as np\n",
    "from scipy.spatial.transform import Rotation as R\n",
    "from pathlib import Path\n",
    "exp_name = \"000_0908test\"\n",
    "save_data_rel_dir_path = (Path(\"data\") / exp_name).resolve()\n",
    "opt_X_BaseCamera_path = (Path(\"data\") / exp_name / \"optimized_X_BaseCamera.npy\").resolve()\n",
    "opt_X_BaseCamera = np.load(opt_X_BaseCamera_path)"
   ]
  },
  {
   "cell_type": "code",
   "execution_count": 2,
   "metadata": {},
   "outputs": [
    {
     "data": {
      "text/plain": [
       "array([[ 0.9992344 , -0.02594648,  0.02928074,  0.47496828],\n",
       "       [-0.03698226, -0.8706051 ,  0.49059036, -0.44457507],\n",
       "       [ 0.01276287, -0.4912977 , -0.87089825,  1.0916817 ],\n",
       "       [ 0.        ,  0.        ,  0.        ,  1.        ]],\n",
       "      dtype=float32)"
      ]
     },
     "execution_count": 2,
     "metadata": {},
     "output_type": "execute_result"
    }
   ],
   "source": [
    "opt_X_BaseCamera"
   ]
  },
  {
   "cell_type": "code",
   "execution_count": 3,
   "metadata": {},
   "outputs": [
    {
     "name": "stdout",
     "output_type": "stream",
     "text": [
      "q: -0.2538360816842667 0.9670493534997484 -0.016268232674459315 0.010869044877388035\n",
      "t: [ 0.47496828 -0.44457507  1.0916817 ]\n"
     ]
    }
   ],
   "source": [
    "w, x, y, z = R.from_matrix(opt_X_BaseCamera[:3, :3]).as_quat()[[3, 0, 1, 2]]\n",
    "t = opt_X_BaseCamera[:3, 3]\n",
    "print(f\"q: {w} {x} {y} {z}\")\n",
    "print(f\"t: {t}\")"
   ]
  }
 ],
 "metadata": {
  "kernelspec": {
   "display_name": "py38",
   "language": "python",
   "name": "python3"
  },
  "language_info": {
   "codemirror_mode": {
    "name": "ipython",
    "version": 3
   },
   "file_extension": ".py",
   "mimetype": "text/x-python",
   "name": "python",
   "nbconvert_exporter": "python",
   "pygments_lexer": "ipython3",
   "version": "3.8.19"
  }
 },
 "nbformat": 4,
 "nbformat_minor": 2
}
